{
 "cells": [
  {
   "cell_type": "markdown",
   "metadata": {},
   "source": [
    "#### Third Assignment -Big Data Mining\n",
    "\n",
    "##### Theodora Koutsothanasi"
   ]
  },
  {
   "cell_type": "markdown",
   "metadata": {},
   "source": [
    "#### Define the problem"
   ]
  },
  {
   "cell_type": "markdown",
   "metadata": {},
   "source": [
    "#### Questions we need to answer:\n",
    "\n",
    "- Provide an overview of the dataset size, features, and distribution of feature values.\n",
    "- Describe the average delays per airport/airline.\n",
    "- Identify and report the most prominent rules of association between delays and point of origin AND/OR point of arrival.\n",
    "- Try to predict the delay given all other features and report the appropriate performance on cross-validation.\n",
    "- Identify patterns/rules regarding delays and try to explain when delays should be expected, based on these patterns"
   ]
  },
  {
   "cell_type": "code",
   "execution_count": 20,
   "metadata": {},
   "outputs": [],
   "source": [
    "#Import important libraries\n",
    "\n",
    "import pandas as pd\n",
    "import numpy as np \n",
    "import matplotlib.pyplot as plt"
   ]
  },
  {
   "cell_type": "code",
   "execution_count": 21,
   "metadata": {},
   "outputs": [
    {
     "data": {
      "text/html": [
       "<div>\n",
       "<style scoped>\n",
       "    .dataframe tbody tr th:only-of-type {\n",
       "        vertical-align: middle;\n",
       "    }\n",
       "\n",
       "    .dataframe tbody tr th {\n",
       "        vertical-align: top;\n",
       "    }\n",
       "\n",
       "    .dataframe thead th {\n",
       "        text-align: right;\n",
       "    }\n",
       "</style>\n",
       "<table border=\"1\" class=\"dataframe\">\n",
       "  <thead>\n",
       "    <tr style=\"text-align: right;\">\n",
       "      <th></th>\n",
       "      <th>DayofWeek</th>\n",
       "      <th>CRSDepTime</th>\n",
       "      <th>UniqueCarrier</th>\n",
       "      <th>FlightNum</th>\n",
       "      <th>Origin</th>\n",
       "      <th>Dest</th>\n",
       "      <th>ArrDelay</th>\n",
       "    </tr>\n",
       "  </thead>\n",
       "  <tbody>\n",
       "    <tr>\n",
       "      <th>0</th>\n",
       "      <td>5.0</td>\n",
       "      <td>600.0</td>\n",
       "      <td>b'UA'</td>\n",
       "      <td>b'899.0'</td>\n",
       "      <td>b'ORD'</td>\n",
       "      <td>b'IAD'</td>\n",
       "      <td>-3.0</td>\n",
       "    </tr>\n",
       "    <tr>\n",
       "      <th>1</th>\n",
       "      <td>5.0</td>\n",
       "      <td>615.0</td>\n",
       "      <td>b'DL'</td>\n",
       "      <td>b'357.0'</td>\n",
       "      <td>b'IAD'</td>\n",
       "      <td>b'ATL'</td>\n",
       "      <td>5.0</td>\n",
       "    </tr>\n",
       "    <tr>\n",
       "      <th>2</th>\n",
       "      <td>5.0</td>\n",
       "      <td>615.0</td>\n",
       "      <td>b'UA'</td>\n",
       "      <td>b'341.0'</td>\n",
       "      <td>b'IAD'</td>\n",
       "      <td>b'DEN'</td>\n",
       "      <td>8.0</td>\n",
       "    </tr>\n",
       "    <tr>\n",
       "      <th>3</th>\n",
       "      <td>5.0</td>\n",
       "      <td>625.0</td>\n",
       "      <td>b'CO'</td>\n",
       "      <td>b'581.0'</td>\n",
       "      <td>b'IAD'</td>\n",
       "      <td>b'DEN'</td>\n",
       "      <td>44.0</td>\n",
       "    </tr>\n",
       "    <tr>\n",
       "      <th>4</th>\n",
       "      <td>5.0</td>\n",
       "      <td>630.0</td>\n",
       "      <td>b'UA'</td>\n",
       "      <td>b'902.0'</td>\n",
       "      <td>b'CLE'</td>\n",
       "      <td>b'IAD'</td>\n",
       "      <td>-10.0</td>\n",
       "    </tr>\n",
       "  </tbody>\n",
       "</table>\n",
       "</div>"
      ],
      "text/plain": [
       "   DayofWeek  CRSDepTime UniqueCarrier FlightNum  Origin    Dest  ArrDelay\n",
       "0        5.0       600.0         b'UA'  b'899.0'  b'ORD'  b'IAD'      -3.0\n",
       "1        5.0       615.0         b'DL'  b'357.0'  b'IAD'  b'ATL'       5.0\n",
       "2        5.0       615.0         b'UA'  b'341.0'  b'IAD'  b'DEN'       8.0\n",
       "3        5.0       625.0         b'CO'  b'581.0'  b'IAD'  b'DEN'      44.0\n",
       "4        5.0       630.0         b'UA'  b'902.0'  b'CLE'  b'IAD'     -10.0"
      ]
     },
     "execution_count": 21,
     "metadata": {},
     "output_type": "execute_result"
    }
   ],
   "source": [
    "#Load the dataset\n",
    "from scipy.io import arff\n",
    "import pandas as pd\n",
    "\n",
    "data = arff.loadarff(r'D:\\Desktop\\MscDataScience\\Big Data Mining\\Dataset3 - Final.arff')\n",
    "df = pd.DataFrame(data[0])\n",
    "\n",
    "df.head()"
   ]
  },
  {
   "cell_type": "markdown",
   "metadata": {},
   "source": [
    "#### Data Wrangling"
   ]
  },
  {
   "cell_type": "code",
   "execution_count": 22,
   "metadata": {},
   "outputs": [],
   "source": [
    "# Remove b in from of unique carrier,FlightNum and Dest names\n",
    "\n",
    "df['UniqueCarrier'] = df['UniqueCarrier'].str.decode('utf-8')\n",
    "df['FlightNum'] = df['FlightNum'].str.decode('utf-8')\n",
    "df['Dest'] = df['Dest'].str.decode('utf-8')\n",
    "df['Origin'] = df['Origin'].str.decode('utf-8')"
   ]
  },
  {
   "cell_type": "code",
   "execution_count": 23,
   "metadata": {},
   "outputs": [
    {
     "data": {
      "text/html": [
       "<div>\n",
       "<style scoped>\n",
       "    .dataframe tbody tr th:only-of-type {\n",
       "        vertical-align: middle;\n",
       "    }\n",
       "\n",
       "    .dataframe tbody tr th {\n",
       "        vertical-align: top;\n",
       "    }\n",
       "\n",
       "    .dataframe thead th {\n",
       "        text-align: right;\n",
       "    }\n",
       "</style>\n",
       "<table border=\"1\" class=\"dataframe\">\n",
       "  <thead>\n",
       "    <tr style=\"text-align: right;\">\n",
       "      <th></th>\n",
       "      <th>DayofWeek</th>\n",
       "      <th>CRSDepTime</th>\n",
       "      <th>UniqueCarrier</th>\n",
       "      <th>FlightNum</th>\n",
       "      <th>Origin</th>\n",
       "      <th>Dest</th>\n",
       "      <th>ArrDelay</th>\n",
       "    </tr>\n",
       "  </thead>\n",
       "  <tbody>\n",
       "    <tr>\n",
       "      <th>0</th>\n",
       "      <td>5.0</td>\n",
       "      <td>600.0</td>\n",
       "      <td>UA</td>\n",
       "      <td>899.0</td>\n",
       "      <td>ORD</td>\n",
       "      <td>IAD</td>\n",
       "      <td>-3.0</td>\n",
       "    </tr>\n",
       "    <tr>\n",
       "      <th>1</th>\n",
       "      <td>5.0</td>\n",
       "      <td>615.0</td>\n",
       "      <td>DL</td>\n",
       "      <td>357.0</td>\n",
       "      <td>IAD</td>\n",
       "      <td>ATL</td>\n",
       "      <td>5.0</td>\n",
       "    </tr>\n",
       "    <tr>\n",
       "      <th>2</th>\n",
       "      <td>5.0</td>\n",
       "      <td>615.0</td>\n",
       "      <td>UA</td>\n",
       "      <td>341.0</td>\n",
       "      <td>IAD</td>\n",
       "      <td>DEN</td>\n",
       "      <td>8.0</td>\n",
       "    </tr>\n",
       "    <tr>\n",
       "      <th>3</th>\n",
       "      <td>5.0</td>\n",
       "      <td>625.0</td>\n",
       "      <td>CO</td>\n",
       "      <td>581.0</td>\n",
       "      <td>IAD</td>\n",
       "      <td>DEN</td>\n",
       "      <td>44.0</td>\n",
       "    </tr>\n",
       "    <tr>\n",
       "      <th>4</th>\n",
       "      <td>5.0</td>\n",
       "      <td>630.0</td>\n",
       "      <td>UA</td>\n",
       "      <td>902.0</td>\n",
       "      <td>CLE</td>\n",
       "      <td>IAD</td>\n",
       "      <td>-10.0</td>\n",
       "    </tr>\n",
       "    <tr>\n",
       "      <th>5</th>\n",
       "      <td>5.0</td>\n",
       "      <td>635.0</td>\n",
       "      <td>EA</td>\n",
       "      <td>931.0</td>\n",
       "      <td>CLE</td>\n",
       "      <td>IAD</td>\n",
       "      <td>-13.0</td>\n",
       "    </tr>\n",
       "    <tr>\n",
       "      <th>6</th>\n",
       "      <td>5.0</td>\n",
       "      <td>635.0</td>\n",
       "      <td>UA</td>\n",
       "      <td>563.0</td>\n",
       "      <td>EWR</td>\n",
       "      <td>IAD</td>\n",
       "      <td>-12.0</td>\n",
       "    </tr>\n",
       "    <tr>\n",
       "      <th>7</th>\n",
       "      <td>5.0</td>\n",
       "      <td>636.0</td>\n",
       "      <td>UA</td>\n",
       "      <td>951.0</td>\n",
       "      <td>IAD</td>\n",
       "      <td>RIC</td>\n",
       "      <td>1.0</td>\n",
       "    </tr>\n",
       "    <tr>\n",
       "      <th>8</th>\n",
       "      <td>5.0</td>\n",
       "      <td>645.0</td>\n",
       "      <td>UA</td>\n",
       "      <td>1095.0</td>\n",
       "      <td>DTW</td>\n",
       "      <td>IAD</td>\n",
       "      <td>-7.0</td>\n",
       "    </tr>\n",
       "    <tr>\n",
       "      <th>9</th>\n",
       "      <td>5.0</td>\n",
       "      <td>645.0</td>\n",
       "      <td>UA</td>\n",
       "      <td>1021.0</td>\n",
       "      <td>BOS</td>\n",
       "      <td>IAD</td>\n",
       "      <td>0.0</td>\n",
       "    </tr>\n",
       "  </tbody>\n",
       "</table>\n",
       "</div>"
      ],
      "text/plain": [
       "   DayofWeek  CRSDepTime UniqueCarrier FlightNum Origin Dest  ArrDelay\n",
       "0        5.0       600.0            UA     899.0    ORD  IAD      -3.0\n",
       "1        5.0       615.0            DL     357.0    IAD  ATL       5.0\n",
       "2        5.0       615.0            UA     341.0    IAD  DEN       8.0\n",
       "3        5.0       625.0            CO     581.0    IAD  DEN      44.0\n",
       "4        5.0       630.0            UA     902.0    CLE  IAD     -10.0\n",
       "5        5.0       635.0            EA     931.0    CLE  IAD     -13.0\n",
       "6        5.0       635.0            UA     563.0    EWR  IAD     -12.0\n",
       "7        5.0       636.0            UA     951.0    IAD  RIC       1.0\n",
       "8        5.0       645.0            UA    1095.0    DTW  IAD      -7.0\n",
       "9        5.0       645.0            UA    1021.0    BOS  IAD       0.0"
      ]
     },
     "execution_count": 23,
     "metadata": {},
     "output_type": "execute_result"
    }
   ],
   "source": [
    "df.head(10)"
   ]
  },
  {
   "cell_type": "code",
   "execution_count": 24,
   "metadata": {
    "scrolled": true
   },
   "outputs": [
    {
     "name": "stdout",
     "output_type": "stream",
     "text": [
      "<class 'pandas.core.frame.DataFrame'>\n",
      "RangeIndex: 100161 entries, 0 to 100160\n",
      "Data columns (total 7 columns):\n",
      "DayofWeek        100161 non-null float64\n",
      "CRSDepTime       100161 non-null float64\n",
      "UniqueCarrier    100161 non-null object\n",
      "FlightNum        100161 non-null object\n",
      "Origin           100161 non-null object\n",
      "Dest             100161 non-null object\n",
      "ArrDelay         100161 non-null float64\n",
      "dtypes: float64(3), object(4)\n",
      "memory usage: 5.3+ MB\n"
     ]
    }
   ],
   "source": [
    "df.info()"
   ]
  },
  {
   "cell_type": "markdown",
   "metadata": {},
   "source": [
    "#### Exploratory Analysis\n",
    "##### Overview of the dataset size, features, and distribution of feature values."
   ]
  },
  {
   "cell_type": "code",
   "execution_count": 25,
   "metadata": {},
   "outputs": [
    {
     "data": {
      "text/html": [
       "<div>\n",
       "<style scoped>\n",
       "    .dataframe tbody tr th:only-of-type {\n",
       "        vertical-align: middle;\n",
       "    }\n",
       "\n",
       "    .dataframe tbody tr th {\n",
       "        vertical-align: top;\n",
       "    }\n",
       "\n",
       "    .dataframe thead th {\n",
       "        text-align: right;\n",
       "    }\n",
       "</style>\n",
       "<table border=\"1\" class=\"dataframe\">\n",
       "  <thead>\n",
       "    <tr style=\"text-align: right;\">\n",
       "      <th></th>\n",
       "      <th>DayofWeek</th>\n",
       "      <th>CRSDepTime</th>\n",
       "      <th>ArrDelay</th>\n",
       "    </tr>\n",
       "  </thead>\n",
       "  <tbody>\n",
       "    <tr>\n",
       "      <th>count</th>\n",
       "      <td>100161.000000</td>\n",
       "      <td>100161.000000</td>\n",
       "      <td>100161.000000</td>\n",
       "    </tr>\n",
       "    <tr>\n",
       "      <th>mean</th>\n",
       "      <td>3.952626</td>\n",
       "      <td>1357.918262</td>\n",
       "      <td>4.638462</td>\n",
       "    </tr>\n",
       "    <tr>\n",
       "      <th>std</th>\n",
       "      <td>1.985074</td>\n",
       "      <td>460.022924</td>\n",
       "      <td>23.397863</td>\n",
       "    </tr>\n",
       "    <tr>\n",
       "      <th>min</th>\n",
       "      <td>1.000000</td>\n",
       "      <td>5.000000</td>\n",
       "      <td>-72.000000</td>\n",
       "    </tr>\n",
       "    <tr>\n",
       "      <th>25%</th>\n",
       "      <td>2.000000</td>\n",
       "      <td>925.000000</td>\n",
       "      <td>-7.000000</td>\n",
       "    </tr>\n",
       "    <tr>\n",
       "      <th>50%</th>\n",
       "      <td>4.000000</td>\n",
       "      <td>1335.000000</td>\n",
       "      <td>0.000000</td>\n",
       "    </tr>\n",
       "    <tr>\n",
       "      <th>75%</th>\n",
       "      <td>6.000000</td>\n",
       "      <td>1735.000000</td>\n",
       "      <td>9.000000</td>\n",
       "    </tr>\n",
       "    <tr>\n",
       "      <th>max</th>\n",
       "      <td>7.000000</td>\n",
       "      <td>2359.000000</td>\n",
       "      <td>667.000000</td>\n",
       "    </tr>\n",
       "  </tbody>\n",
       "</table>\n",
       "</div>"
      ],
      "text/plain": [
       "           DayofWeek     CRSDepTime       ArrDelay\n",
       "count  100161.000000  100161.000000  100161.000000\n",
       "mean        3.952626    1357.918262       4.638462\n",
       "std         1.985074     460.022924      23.397863\n",
       "min         1.000000       5.000000     -72.000000\n",
       "25%         2.000000     925.000000      -7.000000\n",
       "50%         4.000000    1335.000000       0.000000\n",
       "75%         6.000000    1735.000000       9.000000\n",
       "max         7.000000    2359.000000     667.000000"
      ]
     },
     "execution_count": 25,
     "metadata": {},
     "output_type": "execute_result"
    }
   ],
   "source": [
    "df.describe()"
   ]
  },
  {
   "cell_type": "code",
   "execution_count": 26,
   "metadata": {
    "scrolled": true
   },
   "outputs": [
    {
     "data": {
      "text/plain": [
       "array([[<matplotlib.axes._subplots.AxesSubplot object at 0x000001EE666C1BE0>,\n",
       "        <matplotlib.axes._subplots.AxesSubplot object at 0x000001EE69244B70>],\n",
       "       [<matplotlib.axes._subplots.AxesSubplot object at 0x000001EE6A479160>,\n",
       "        <matplotlib.axes._subplots.AxesSubplot object at 0x000001EE6D3BF710>]],\n",
       "      dtype=object)"
      ]
     },
     "execution_count": 26,
     "metadata": {},
     "output_type": "execute_result"
    },
    {
     "data": {
      "image/png": "[encoded data removed]",
      "text/plain": [
       "<Figure size 576x576 with 4 Axes>"
      ]
     },
     "metadata": {
      "needs_background": "light"
     },
     "output_type": "display_data"
    }
   ],
   "source": [
    "#Plot the histograms\n",
    "df.hist(figsize=(8,8),ylabelsize=8,xlabelsize=8)"
   ]
  },
  {
   "cell_type": "code",
   "execution_count": 27,
   "metadata": {},
   "outputs": [
    {
     "data": {
      "image/png": "[encoded data removed]",
      "text/plain": [
       "<Figure size 1080x288 with 3 Axes>"
      ]
     },
     "metadata": {
      "needs_background": "light"
     },
     "output_type": "display_data"
    }
   ],
   "source": [
    "# Univariate Density Plots\n",
    "from matplotlib import pyplot\n",
    "df.plot(kind='density', layout=(1,3),figsize=(15,4),subplots=True, sharex=False)\n",
    "pyplot.show()"
   ]
  },
  {
   "cell_type": "code",
   "execution_count": 28,
   "metadata": {},
   "outputs": [
    {
     "data": {
      "image/png": "[encoded data removed]",
      "text/plain": [
       "<Figure size 1080x288 with 3 Axes>"
      ]
     },
     "metadata": {
      "needs_background": "light"
     },
     "output_type": "display_data"
    }
   ],
   "source": [
    "# Box Plots\n",
    "df.plot(kind='box', layout=(1,3),figsize=(15,4),subplots=True, sharex=False)\n",
    "pyplot.show()"
   ]
  },
  {
   "cell_type": "code",
   "execution_count": 29,
   "metadata": {},
   "outputs": [
    {
     "data": {
      "text/plain": [
       "56"
      ]
     },
     "execution_count": 29,
     "metadata": {},
     "output_type": "execute_result"
    }
   ],
   "source": [
    "# Number of delays above 250\n",
    "arr=df['ArrDelay']>250\n",
    "arr.sum()"
   ]
  },
  {
   "cell_type": "code",
   "execution_count": 30,
   "metadata": {},
   "outputs": [
    {
     "data": {
      "text/plain": [
       "47453"
      ]
     },
     "execution_count": 30,
     "metadata": {},
     "output_type": "execute_result"
    }
   ],
   "source": [
    "#Number of delays below 0\n",
    "arr2=df['ArrDelay']<0\n",
    "arr2.sum()"
   ]
  },
  {
   "cell_type": "code",
   "execution_count": 78,
   "metadata": {},
   "outputs": [
    {
     "name": "stdout",
     "output_type": "stream",
     "text": [
      "UA          63706\n",
      "CO           9219\n",
      "AA           8620\n",
      "NW           5521\n",
      "DL           4793\n",
      "US           3513\n",
      "TW           3056\n",
      "EA           1420\n",
      "'PA (1)'      313\n",
      "Name: UniqueCarrier, dtype: int64\n"
     ]
    }
   ],
   "source": [
    "#Number of flights per Carrier\n",
    "carrier_count = df['UniqueCarrier'].value_counts()\n",
    "print(carrier_count)"
   ]
  },
  {
   "cell_type": "code",
   "execution_count": 32,
   "metadata": {},
   "outputs": [
    {
     "data": {
      "image/png": "[encoded data removed]",
      "text/plain": [
       "<Figure size 1080x360 with 2 Axes>"
      ]
     },
     "metadata": {
      "needs_background": "light"
     },
     "output_type": "display_data"
    }
   ],
   "source": [
    "#Graphical representation of carriers scheduled flights in numbers and %\n",
    "import seaborn as sns\n",
    "f,ax=plt.subplots(1,2,figsize=(15,5))\n",
    "carrier_count.plot.pie(autopct='%1.0f%%',ax=ax[1],shadow=False)                                                  \n",
    "ax[1].set_title('Flight % of Carrier')\n",
    "ax[1].set_ylabel('')\n",
    "sns.countplot('UniqueCarrier',order = carrier_count.index, data=df,ax=ax[0])\n",
    "ax[0].set_title('Frequency Distribution of Carriers')\n",
    "ax[0].set_ylabel('Number of Flights')\n",
    "plt.show()"
   ]
  },
  {
   "cell_type": "markdown",
   "metadata": {},
   "source": [
    "UA carrier possess the 64% of flights of this dataset."
   ]
  },
  {
   "cell_type": "code",
   "execution_count": 33,
   "metadata": {},
   "outputs": [
    {
     "name": "stdout",
     "output_type": "stream",
     "text": [
      "5.0    14780\n",
      "3.0    14686\n",
      "4.0    14576\n",
      "2.0    14554\n",
      "1.0    14509\n",
      "7.0    13684\n",
      "6.0    13372\n",
      "Name: DayofWeek, dtype: int64\n"
     ]
    }
   ],
   "source": [
    "#Number of flights per weekday\n",
    "No_flights_weekday=df['DayofWeek'].value_counts()\n",
    "\n",
    "print(No_flights_weekday)"
   ]
  },
  {
   "cell_type": "code",
   "execution_count": 34,
   "metadata": {
    "scrolled": true
   },
   "outputs": [
    {
     "name": "stdout",
     "output_type": "stream",
     "text": [
      "IAD    50229\n",
      "DEN     2911\n",
      "ATL     2820\n",
      "ORD     2753\n",
      "LAX     2591\n",
      "LGA     2364\n",
      "BOS     2210\n",
      "DTW     2176\n",
      "DFW     2145\n",
      "EWR     1943\n",
      "BDL     1795\n",
      "PIT     1701\n",
      "MCO     1681\n",
      "CLE     1458\n",
      "SFO     1397\n",
      "TPA     1184\n",
      "ROC     1177\n",
      "IAH     1124\n",
      "MSY      912\n",
      "MEM      903\n",
      "STL      902\n",
      "FLL      859\n",
      "BUF      835\n",
      "PHL      783\n",
      "JAX      740\n",
      "MIA      735\n",
      "RDU      722\n",
      "PBI      688\n",
      "SLC      686\n",
      "MSP      644\n",
      "CHS      534\n",
      "ORF      531\n",
      "MHT      447\n",
      "CAE      446\n",
      "IND      439\n",
      "SYR      364\n",
      "PHF      355\n",
      "GSO      329\n",
      "BTV      326\n",
      "SDF      324\n",
      "RSW      322\n",
      "PWM      303\n",
      "SEA      299\n",
      "PVD      296\n",
      "BNA      294\n",
      "SJU      277\n",
      "HPN      228\n",
      "HOU      201\n",
      "SAV      201\n",
      "ISP      146\n",
      "JFK      142\n",
      "PHX       91\n",
      "SRQ       85\n",
      "MDW       62\n",
      "BWI       43\n",
      "RIC        4\n",
      "DCA        3\n",
      "MDT        1\n",
      "Name: Origin, dtype: int64\n"
     ]
    }
   ],
   "source": [
    "no_origins=df['Origin'].value_counts()\n",
    "print(no_origins)"
   ]
  },
  {
   "cell_type": "code",
   "execution_count": 37,
   "metadata": {
    "scrolled": false
   },
   "outputs": [
    {
     "data": {
      "image/png": "[encoded data removed]",
      "text/plain": [
       "<Figure size 2160x576 with 1 Axes>"
      ]
     },
     "metadata": {
      "needs_background": "light"
     },
     "output_type": "display_data"
    }
   ],
   "source": [
    "# Pattern of departure time from the airports \n",
    "\n",
    "df.boxplot('CRSDepTime','Origin', rot = 40, figsize=(30,8))\n",
    "\n",
    "plt.show()\n"
   ]
  },
  {
   "cell_type": "markdown",
   "metadata": {},
   "source": [
    "#### Describe the average delays per airport/airline"
   ]
  },
  {
   "cell_type": "code",
   "execution_count": 35,
   "metadata": {},
   "outputs": [
    {
     "name": "stdout",
     "output_type": "stream",
     "text": [
      "UniqueCarrier\n",
      "'PA (1)'    16.223642\n",
      "AA           1.908237\n",
      "CO           4.919948\n",
      "DL           5.118715\n",
      "EA          11.728169\n",
      "NW           5.004890\n",
      "TW           5.179647\n",
      "UA           4.569664\n",
      "US           6.246798\n",
      "Name: ArrDelay, dtype: float64\n"
     ]
    },
    {
     "data": {
      "image/png": "[encoded data removed]",
      "text/plain": [
       "<Figure size 360x360 with 1 Axes>"
      ]
     },
     "metadata": {
      "needs_background": "light"
     },
     "output_type": "display_data"
    }
   ],
   "source": [
    "# Calculate the average delay per airline-carrier.\n",
    "carrier_group = df['ArrDelay'].groupby(df['UniqueCarrier']).mean()\n",
    "print(carrier_group)\n",
    "\n",
    "\n",
    "sns.catplot(x=\"UniqueCarrier\", y=\"ArrDelay\",\n",
    "            kind=\"bar\", data=df);"
   ]
  },
  {
   "cell_type": "code",
   "execution_count": 36,
   "metadata": {
    "scrolled": true
   },
   "outputs": [
    {
     "name": "stdout",
     "output_type": "stream",
     "text": [
      "Dest\n",
      "MDT    21.000000\n",
      "FLL    14.638554\n",
      "MDW    11.873016\n",
      "CHS    11.830153\n",
      "PBI    11.072857\n",
      "JFK     9.690909\n",
      "MCO     9.545346\n",
      "HOU     8.954545\n",
      "BOS     8.570847\n",
      "EWR     8.528418\n",
      "MSP     8.340841\n",
      "CLE     8.035286\n",
      "RDU     7.352941\n",
      "MIA     7.196009\n",
      "BDL     7.168256\n",
      "PHL     6.934949\n",
      "SFO     6.711826\n",
      "PIT     6.639838\n",
      "TPA     6.525869\n",
      "ORD     5.786903\n",
      "MSY     5.692731\n",
      "SAV     5.617978\n",
      "RSW     5.433846\n",
      "LGA     5.377581\n",
      "DEN     5.261564\n",
      "SJU     4.901361\n",
      "DTW     4.829739\n",
      "MEM     4.674145\n",
      "SDF     4.451713\n",
      "SLC     4.170000\n",
      "IAD     4.083373\n",
      "IAH     4.073019\n",
      "ROC     3.553556\n",
      "SEA     3.325658\n",
      "ATL     3.265894\n",
      "DCA     3.000000\n",
      "ORF     2.712946\n",
      "BUF     2.539024\n",
      "HPN     2.328829\n",
      "PHX     2.186667\n",
      "DFW     2.097717\n",
      "RIC     2.000000\n",
      "JAX     1.990437\n",
      "PVD     1.922559\n",
      "SYR     1.849315\n",
      "PHF     1.416431\n",
      "STL     1.312961\n",
      "PWM     1.114379\n",
      "IND     1.016092\n",
      "LAX     0.719517\n",
      "CAE     0.692308\n",
      "MHT     0.347534\n",
      "BTV     0.217666\n",
      "BNA    -0.195440\n",
      "ISP    -2.119718\n",
      "SRQ    -2.785714\n",
      "BWI    -6.000000\n",
      "GSO    -6.012158\n",
      "CRW    -6.211009\n",
      "Name: ArrDelay, dtype: float64\n"
     ]
    }
   ],
   "source": [
    "# Calculate the average delay per airport-destination.\n",
    "airport_group = df['ArrDelay'].groupby(df['Dest']).mean().sort_values(ascending=False)\n",
    "print(airport_group)"
   ]
  },
  {
   "cell_type": "markdown",
   "metadata": {},
   "source": [
    "#### Identify and report the most prominent rules of association between delays and point of origin AND/OR point of arrival."
   ]
  },
  {
   "cell_type": "code",
   "execution_count": 79,
   "metadata": {},
   "outputs": [],
   "source": [
    "#Reshape the dataset, in order to apply the Apriori algorithm"
   ]
  },
  {
   "cell_type": "code",
   "execution_count": 87,
   "metadata": {},
   "outputs": [],
   "source": [
    "origin_delay=df[['Origin','ArrDelay']]"
   ]
  },
  {
   "cell_type": "code",
   "execution_count": 80,
   "metadata": {},
   "outputs": [],
   "source": [
    "origin_group = df['Origin'].groupby(df['ArrDelay']).value_counts()"
   ]
  },
  {
   "cell_type": "code",
   "execution_count": 90,
   "metadata": {},
   "outputs": [],
   "source": [
    "#Applying One hot Enconding\n",
    "df_onehotenc=pd.get_dummies(origin_delay,prefix=['Delay'],columns=['ArrDelay'])"
   ]
  },
  {
   "cell_type": "code",
   "execution_count": 98,
   "metadata": {},
   "outputs": [
    {
     "data": {
      "text/plain": [
       "array(['ORD', 'IAD', 'CLE', 'EWR', 'DTW', 'BOS', 'LGA', 'CAE', 'BDL',\n",
       "       'ISP', 'TPA', 'FLL', 'RSW', 'BUF', 'ROC', 'MCO', 'JAX', 'PBI',\n",
       "       'GSO', 'IAH', 'DEN', 'CHS', 'SFO', 'DFW', 'LAX', 'RDU', 'PIT',\n",
       "       'SLC', 'JFK', 'ATL', 'PHF', 'MSY', 'MDW', 'MIA', 'MEM', 'STL',\n",
       "       'ORF', 'SJU', 'RIC', 'DCA', 'SEA', 'MSP', 'PHL', 'MDT', 'HPN',\n",
       "       'BWI', 'SRQ', 'MHT', 'SYR', 'SDF', 'BTV', 'IND', 'BNA', 'HOU',\n",
       "       'SAV', 'PVD', 'PWM', 'PHX'], dtype=object)"
      ]
     },
     "execution_count": 98,
     "metadata": {},
     "output_type": "execute_result"
    }
   ],
   "source": [
    "items = (df['Origin'].unique())\n",
    "items"
   ]
  },
  {
   "cell_type": "code",
   "execution_count": 94,
   "metadata": {},
   "outputs": [],
   "source": [
    "num_records=len(df_onehotenc)"
   ]
  },
  {
   "cell_type": "code",
   "execution_count": 96,
   "metadata": {},
   "outputs": [],
   "source": [
    "from apyori import apriori\n",
    "import matplotlib.pyplot as plt"
   ]
  },
  {
   "cell_type": "code",
   "execution_count": 99,
   "metadata": {},
   "outputs": [],
   "source": [
    "records=[]\n",
    "for i in range(0,num_records):\n",
    "     records.append([str(df_onehotenc.values[i,j] for j in range(0,2))])"
   ]
  },
  {
   "cell_type": "code",
   "execution_count": 100,
   "metadata": {},
   "outputs": [],
   "source": [
    "association_rules = apriori(records, min_support=0.0045, min_confidence=0.2, min_lift=3, min_length=2)\n",
    "association_results = list(association_rules)"
   ]
  },
  {
   "cell_type": "code",
   "execution_count": 101,
   "metadata": {},
   "outputs": [
    {
     "name": "stdout",
     "output_type": "stream",
     "text": [
      "0\n"
     ]
    }
   ],
   "source": [
    "print(len(association_results))"
   ]
  },
  {
   "cell_type": "markdown",
   "metadata": {},
   "source": [
    "#### Predict the delay given all other features and report the appropriate performance on cross-validation."
   ]
  },
  {
   "cell_type": "code",
   "execution_count": 50,
   "metadata": {},
   "outputs": [],
   "source": [
    "#Transform arrdelay to 0 if it is not delayed and 1 if it is.\n",
    "\n",
    "df['ArrDelay']=df['ArrDelay'].apply(lambda x: 0 if x <= 0 else 1)"
   ]
  },
  {
   "cell_type": "code",
   "execution_count": 51,
   "metadata": {},
   "outputs": [
    {
     "data": {
      "text/html": [
       "<div>\n",
       "<style scoped>\n",
       "    .dataframe tbody tr th:only-of-type {\n",
       "        vertical-align: middle;\n",
       "    }\n",
       "\n",
       "    .dataframe tbody tr th {\n",
       "        vertical-align: top;\n",
       "    }\n",
       "\n",
       "    .dataframe thead th {\n",
       "        text-align: right;\n",
       "    }\n",
       "</style>\n",
       "<table border=\"1\" class=\"dataframe\">\n",
       "  <thead>\n",
       "    <tr style=\"text-align: right;\">\n",
       "      <th></th>\n",
       "      <th>DayofWeek</th>\n",
       "      <th>CRSDepTime</th>\n",
       "      <th>UniqueCarrier</th>\n",
       "      <th>FlightNum</th>\n",
       "      <th>Origin</th>\n",
       "      <th>Dest</th>\n",
       "      <th>ArrDelay</th>\n",
       "    </tr>\n",
       "  </thead>\n",
       "  <tbody>\n",
       "    <tr>\n",
       "      <th>0</th>\n",
       "      <td>5.0</td>\n",
       "      <td>600.0</td>\n",
       "      <td>UA</td>\n",
       "      <td>899.0</td>\n",
       "      <td>ORD</td>\n",
       "      <td>IAD</td>\n",
       "      <td>0</td>\n",
       "    </tr>\n",
       "    <tr>\n",
       "      <th>1</th>\n",
       "      <td>5.0</td>\n",
       "      <td>615.0</td>\n",
       "      <td>DL</td>\n",
       "      <td>357.0</td>\n",
       "      <td>IAD</td>\n",
       "      <td>ATL</td>\n",
       "      <td>1</td>\n",
       "    </tr>\n",
       "    <tr>\n",
       "      <th>2</th>\n",
       "      <td>5.0</td>\n",
       "      <td>615.0</td>\n",
       "      <td>UA</td>\n",
       "      <td>341.0</td>\n",
       "      <td>IAD</td>\n",
       "      <td>DEN</td>\n",
       "      <td>1</td>\n",
       "    </tr>\n",
       "    <tr>\n",
       "      <th>3</th>\n",
       "      <td>5.0</td>\n",
       "      <td>625.0</td>\n",
       "      <td>CO</td>\n",
       "      <td>581.0</td>\n",
       "      <td>IAD</td>\n",
       "      <td>DEN</td>\n",
       "      <td>1</td>\n",
       "    </tr>\n",
       "    <tr>\n",
       "      <th>4</th>\n",
       "      <td>5.0</td>\n",
       "      <td>630.0</td>\n",
       "      <td>UA</td>\n",
       "      <td>902.0</td>\n",
       "      <td>CLE</td>\n",
       "      <td>IAD</td>\n",
       "      <td>0</td>\n",
       "    </tr>\n",
       "  </tbody>\n",
       "</table>\n",
       "</div>"
      ],
      "text/plain": [
       "   DayofWeek  CRSDepTime UniqueCarrier FlightNum Origin Dest  ArrDelay\n",
       "0        5.0       600.0            UA     899.0    ORD  IAD         0\n",
       "1        5.0       615.0            DL     357.0    IAD  ATL         1\n",
       "2        5.0       615.0            UA     341.0    IAD  DEN         1\n",
       "3        5.0       625.0            CO     581.0    IAD  DEN         1\n",
       "4        5.0       630.0            UA     902.0    CLE  IAD         0"
      ]
     },
     "execution_count": 51,
     "metadata": {},
     "output_type": "execute_result"
    }
   ],
   "source": [
    "df.head(5)"
   ]
  },
  {
   "cell_type": "code",
   "execution_count": 57,
   "metadata": {},
   "outputs": [],
   "source": [
    "#Transform categorical data into numeric-Label Encoder\n",
    "from sklearn.preprocessing import LabelEncoder\n",
    "df['Carrier_label_enc']=LabelEncoder().fit_transform(df.UniqueCarrier)\n",
    "df['Origin_label_enc']=LabelEncoder().fit_transform(df.Origin)\n",
    "df['Dest_label_enc']=LabelEncoder().fit_transform(df.Dest)"
   ]
  },
  {
   "cell_type": "code",
   "execution_count": 56,
   "metadata": {},
   "outputs": [
    {
     "data": {
      "text/html": [
       "<div>\n",
       "<style scoped>\n",
       "    .dataframe tbody tr th:only-of-type {\n",
       "        vertical-align: middle;\n",
       "    }\n",
       "\n",
       "    .dataframe tbody tr th {\n",
       "        vertical-align: top;\n",
       "    }\n",
       "\n",
       "    .dataframe thead th {\n",
       "        text-align: right;\n",
       "    }\n",
       "</style>\n",
       "<table border=\"1\" class=\"dataframe\">\n",
       "  <thead>\n",
       "    <tr style=\"text-align: right;\">\n",
       "      <th></th>\n",
       "      <th>DayofWeek</th>\n",
       "      <th>CRSDepTime</th>\n",
       "      <th>UniqueCarrier</th>\n",
       "      <th>FlightNum</th>\n",
       "      <th>Origin</th>\n",
       "      <th>Dest</th>\n",
       "      <th>ArrDelay</th>\n",
       "      <th>Carrier_label_enc</th>\n",
       "      <th>Origin_label_enc</th>\n",
       "      <th>Dest_label_enc</th>\n",
       "    </tr>\n",
       "  </thead>\n",
       "  <tbody>\n",
       "    <tr>\n",
       "      <th>0</th>\n",
       "      <td>5.0</td>\n",
       "      <td>600.0</td>\n",
       "      <td>UA</td>\n",
       "      <td>899.0</td>\n",
       "      <td>ORD</td>\n",
       "      <td>IAD</td>\n",
       "      <td>0</td>\n",
       "      <td>7</td>\n",
       "      <td>35</td>\n",
       "      <td>20</td>\n",
       "    </tr>\n",
       "    <tr>\n",
       "      <th>1</th>\n",
       "      <td>5.0</td>\n",
       "      <td>615.0</td>\n",
       "      <td>DL</td>\n",
       "      <td>357.0</td>\n",
       "      <td>IAD</td>\n",
       "      <td>ATL</td>\n",
       "      <td>1</td>\n",
       "      <td>3</td>\n",
       "      <td>19</td>\n",
       "      <td>0</td>\n",
       "    </tr>\n",
       "    <tr>\n",
       "      <th>2</th>\n",
       "      <td>5.0</td>\n",
       "      <td>615.0</td>\n",
       "      <td>UA</td>\n",
       "      <td>341.0</td>\n",
       "      <td>IAD</td>\n",
       "      <td>DEN</td>\n",
       "      <td>1</td>\n",
       "      <td>7</td>\n",
       "      <td>19</td>\n",
       "      <td>12</td>\n",
       "    </tr>\n",
       "    <tr>\n",
       "      <th>3</th>\n",
       "      <td>5.0</td>\n",
       "      <td>625.0</td>\n",
       "      <td>CO</td>\n",
       "      <td>581.0</td>\n",
       "      <td>IAD</td>\n",
       "      <td>DEN</td>\n",
       "      <td>1</td>\n",
       "      <td>2</td>\n",
       "      <td>19</td>\n",
       "      <td>12</td>\n",
       "    </tr>\n",
       "    <tr>\n",
       "      <th>4</th>\n",
       "      <td>5.0</td>\n",
       "      <td>630.0</td>\n",
       "      <td>UA</td>\n",
       "      <td>902.0</td>\n",
       "      <td>CLE</td>\n",
       "      <td>IAD</td>\n",
       "      <td>0</td>\n",
       "      <td>7</td>\n",
       "      <td>9</td>\n",
       "      <td>20</td>\n",
       "    </tr>\n",
       "  </tbody>\n",
       "</table>\n",
       "</div>"
      ],
      "text/plain": [
       "   DayofWeek  CRSDepTime UniqueCarrier FlightNum Origin Dest  ArrDelay  \\\n",
       "0        5.0       600.0            UA     899.0    ORD  IAD         0   \n",
       "1        5.0       615.0            DL     357.0    IAD  ATL         1   \n",
       "2        5.0       615.0            UA     341.0    IAD  DEN         1   \n",
       "3        5.0       625.0            CO     581.0    IAD  DEN         1   \n",
       "4        5.0       630.0            UA     902.0    CLE  IAD         0   \n",
       "\n",
       "   Carrier_label_enc  Origin_label_enc  Dest_label_enc  \n",
       "0                  7                35              20  \n",
       "1                  3                19               0  \n",
       "2                  7                19              12  \n",
       "3                  2                19              12  \n",
       "4                  7                 9              20  "
      ]
     },
     "execution_count": 56,
     "metadata": {},
     "output_type": "execute_result"
    }
   ],
   "source": [
    "df.head(5)"
   ]
  },
  {
   "cell_type": "code",
   "execution_count": 67,
   "metadata": {},
   "outputs": [],
   "source": [
    "Log_df= df[['DayofWeek','CRSDepTime','Carrier_label_enc','Origin_label_enc','Dest_label_enc','ArrDelay']]"
   ]
  },
  {
   "cell_type": "code",
   "execution_count": 69,
   "metadata": {},
   "outputs": [
    {
     "data": {
      "text/html": [
       "<div>\n",
       "<style scoped>\n",
       "    .dataframe tbody tr th:only-of-type {\n",
       "        vertical-align: middle;\n",
       "    }\n",
       "\n",
       "    .dataframe tbody tr th {\n",
       "        vertical-align: top;\n",
       "    }\n",
       "\n",
       "    .dataframe thead th {\n",
       "        text-align: right;\n",
       "    }\n",
       "</style>\n",
       "<table border=\"1\" class=\"dataframe\">\n",
       "  <thead>\n",
       "    <tr style=\"text-align: right;\">\n",
       "      <th></th>\n",
       "      <th>DayofWeek</th>\n",
       "      <th>CRSDepTime</th>\n",
       "      <th>Carrier_label_enc</th>\n",
       "      <th>Origin_label_enc</th>\n",
       "      <th>Dest_label_enc</th>\n",
       "      <th>ArrDelay</th>\n",
       "    </tr>\n",
       "  </thead>\n",
       "  <tbody>\n",
       "    <tr>\n",
       "      <th>0</th>\n",
       "      <td>5.0</td>\n",
       "      <td>600.0</td>\n",
       "      <td>7</td>\n",
       "      <td>35</td>\n",
       "      <td>20</td>\n",
       "      <td>0</td>\n",
       "    </tr>\n",
       "    <tr>\n",
       "      <th>1</th>\n",
       "      <td>5.0</td>\n",
       "      <td>615.0</td>\n",
       "      <td>3</td>\n",
       "      <td>19</td>\n",
       "      <td>0</td>\n",
       "      <td>1</td>\n",
       "    </tr>\n",
       "  </tbody>\n",
       "</table>\n",
       "</div>"
      ],
      "text/plain": [
       "   DayofWeek  CRSDepTime  Carrier_label_enc  Origin_label_enc  Dest_label_enc  \\\n",
       "0        5.0       600.0                  7                35              20   \n",
       "1        5.0       615.0                  3                19               0   \n",
       "\n",
       "   ArrDelay  \n",
       "0         0  \n",
       "1         1  "
      ]
     },
     "execution_count": 69,
     "metadata": {},
     "output_type": "execute_result"
    }
   ],
   "source": [
    "Log_df.head(2)"
   ]
  },
  {
   "cell_type": "code",
   "execution_count": 76,
   "metadata": {},
   "outputs": [
    {
     "name": "stderr",
     "output_type": "stream",
     "text": [
      "C:\\ProgramData\\Anaconda3\\lib\\site-packages\\sklearn\\linear_model\\logistic.py:432: FutureWarning: Default solver will be changed to 'lbfgs' in 0.22. Specify a solver to silence this warning.\n",
      "  FutureWarning)\n",
      "C:\\ProgramData\\Anaconda3\\lib\\site-packages\\sklearn\\linear_model\\logistic.py:432: FutureWarning: Default solver will be changed to 'lbfgs' in 0.22. Specify a solver to silence this warning.\n",
      "  FutureWarning)\n",
      "C:\\ProgramData\\Anaconda3\\lib\\site-packages\\sklearn\\linear_model\\logistic.py:432: FutureWarning: Default solver will be changed to 'lbfgs' in 0.22. Specify a solver to silence this warning.\n",
      "  FutureWarning)\n",
      "C:\\ProgramData\\Anaconda3\\lib\\site-packages\\sklearn\\linear_model\\logistic.py:432: FutureWarning: Default solver will be changed to 'lbfgs' in 0.22. Specify a solver to silence this warning.\n",
      "  FutureWarning)\n",
      "C:\\ProgramData\\Anaconda3\\lib\\site-packages\\sklearn\\linear_model\\logistic.py:432: FutureWarning: Default solver will be changed to 'lbfgs' in 0.22. Specify a solver to silence this warning.\n",
      "  FutureWarning)\n",
      "C:\\ProgramData\\Anaconda3\\lib\\site-packages\\sklearn\\linear_model\\logistic.py:432: FutureWarning: Default solver will be changed to 'lbfgs' in 0.22. Specify a solver to silence this warning.\n",
      "  FutureWarning)\n",
      "C:\\ProgramData\\Anaconda3\\lib\\site-packages\\sklearn\\linear_model\\logistic.py:432: FutureWarning: Default solver will be changed to 'lbfgs' in 0.22. Specify a solver to silence this warning.\n",
      "  FutureWarning)\n",
      "C:\\ProgramData\\Anaconda3\\lib\\site-packages\\sklearn\\linear_model\\logistic.py:432: FutureWarning: Default solver will be changed to 'lbfgs' in 0.22. Specify a solver to silence this warning.\n",
      "  FutureWarning)\n",
      "C:\\ProgramData\\Anaconda3\\lib\\site-packages\\sklearn\\linear_model\\logistic.py:432: FutureWarning: Default solver will be changed to 'lbfgs' in 0.22. Specify a solver to silence this warning.\n",
      "  FutureWarning)\n",
      "C:\\ProgramData\\Anaconda3\\lib\\site-packages\\sklearn\\linear_model\\logistic.py:432: FutureWarning: Default solver will be changed to 'lbfgs' in 0.22. Specify a solver to silence this warning.\n",
      "  FutureWarning)\n"
     ]
    },
    {
     "name": "stdout",
     "output_type": "stream",
     "text": [
      "0.5342997794324726\n"
     ]
    }
   ],
   "source": [
    "# Logistic Regression Classification\n",
    "from sklearn.model_selection import KFold\n",
    "from sklearn.model_selection import cross_val_score\n",
    "from sklearn.linear_model import LogisticRegression\n",
    "\n",
    "array = Log_df.values\n",
    "X = array[:,0:5]\n",
    "Y = array[:,5]\n",
    "num_folds = 10\n",
    "kfold = KFold(n_splits=10, random_state=7)\n",
    "model = LogisticRegression()\n",
    "results = cross_val_score(model, X, Y, cv=kfold)\n",
    "print(results.mean())"
   ]
  },
  {
   "cell_type": "code",
   "execution_count": 77,
   "metadata": {},
   "outputs": [
    {
     "name": "stdout",
     "output_type": "stream",
     "text": [
      "0.6110963887349972\n"
     ]
    }
   ],
   "source": [
    "# Random Forest\n",
    "from sklearn.model_selection import KFold\n",
    "from sklearn.model_selection import cross_val_score\n",
    "from sklearn.ensemble import RandomForestClassifier\n",
    "\n",
    "array = Log_df.values\n",
    "X = array[:,0:5]\n",
    "Y = array[:,5]\n",
    "num_trees = 100\n",
    "max_features = 3\n",
    "kfold = KFold(n_splits=10, random_state=7)\n",
    "model = RandomForestClassifier(n_estimators=num_trees, max_features=max_features)\n",
    "results = cross_val_score(model, X, Y, cv=kfold)\n",
    "print(results.mean())"
   ]
  },
  {
   "cell_type": "markdown",
   "metadata": {},
   "source": [
    "#### Identify patterns/rules regarding delays and try to explain when delays should be expected, based on these patterns"
   ]
  },
  {
   "cell_type": "code",
   "execution_count": null,
   "metadata": {},
   "outputs": [],
   "source": []
  }
 ],
 "metadata": {
  "kernelspec": {
   "display_name": "Python 3",
   "language": "python",
   "name": "python3"
  },
  "language_info": {
   "codemirror_mode": {
    "name": "ipython",
    "version": 3
   },
   "file_extension": ".py",
   "mimetype": "text/x-python",
   "name": "python",
   "nbconvert_exporter": "python",
   "pygments_lexer": "ipython3",
   "version": "3.7.3"
  }
 },
 "nbformat": 4,
 "nbformat_minor": 2
}
